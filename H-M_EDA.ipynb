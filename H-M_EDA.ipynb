{
 "cells": [
  {
   "cell_type": "markdown",
   "id": "67e87fd0-e882-4471-891f-d61e2668b970",
   "metadata": {
    "tags": []
   },
   "source": [
    "# 【ライブラリ】"
   ]
  },
  {
   "cell_type": "code",
   "execution_count": 1,
   "id": "4d1c2de4-48b4-4a6b-8474-3ac377ec9307",
   "metadata": {},
   "outputs": [],
   "source": [
    "import numpy as np\n",
    "import pandas as pd\n",
    "from sklearn.preprocessing import LabelEncoder\n",
    "from tqdm import tqdm\n",
    "import matplotlib.pyplot as plt\n",
    "import seaborn as sns"
   ]
  },
  {
   "cell_type": "markdown",
   "id": "adc10334-83c4-44db-b26c-f48d4e5616d9",
   "metadata": {},
   "source": [
    "  "
   ]
  },
  {
   "cell_type": "markdown",
   "id": "05c2475b-78d7-44b1-aa73-5c3e0eae92cf",
   "metadata": {},
   "source": [
    "  "
   ]
  },
  {
   "cell_type": "markdown",
   "id": "5b3dc892-1e9e-4fb6-aed4-286522839364",
   "metadata": {},
   "source": [
    "  "
   ]
  },
  {
   "cell_type": "markdown",
   "id": "efd51d3d-ab52-4bd9-850a-e33b30e097c4",
   "metadata": {},
   "source": [
    "# 【EDA】"
   ]
  },
  {
   "cell_type": "markdown",
   "id": "a0008998-96df-44dd-abba-e3168fdcea53",
   "metadata": {},
   "source": [
    "# ▼購買データ"
   ]
  },
  {
   "cell_type": "code",
   "execution_count": 3,
   "id": "7d4ae017-6db9-43a7-812e-63251490a337",
   "metadata": {},
   "outputs": [
    {
     "name": "stdout",
     "output_type": "stream",
     "text": [
      "(31218444, 5)\n"
     ]
    },
    {
     "data": {
      "text/html": [
       "<div>\n",
       "<style scoped>\n",
       "    .dataframe tbody tr th:only-of-type {\n",
       "        vertical-align: middle;\n",
       "    }\n",
       "\n",
       "    .dataframe tbody tr th {\n",
       "        vertical-align: top;\n",
       "    }\n",
       "\n",
       "    .dataframe thead th {\n",
       "        text-align: right;\n",
       "    }\n",
       "</style>\n",
       "<table border=\"1\" class=\"dataframe\">\n",
       "  <thead>\n",
       "    <tr style=\"text-align: right;\">\n",
       "      <th></th>\n",
       "      <th>t_dat</th>\n",
       "      <th>customer_id</th>\n",
       "      <th>article_id</th>\n",
       "      <th>price</th>\n",
       "      <th>sales_channel_id</th>\n",
       "    </tr>\n",
       "  </thead>\n",
       "  <tbody>\n",
       "    <tr>\n",
       "      <th>0</th>\n",
       "      <td>2018-09-20</td>\n",
       "      <td>000058a12d5b43e67d225668fa1f8d618c13dc232df0ca...</td>\n",
       "      <td>663713001</td>\n",
       "      <td>0.050831</td>\n",
       "      <td>2</td>\n",
       "    </tr>\n",
       "    <tr>\n",
       "      <th>1</th>\n",
       "      <td>2018-09-20</td>\n",
       "      <td>000058a12d5b43e67d225668fa1f8d618c13dc232df0ca...</td>\n",
       "      <td>541518023</td>\n",
       "      <td>0.030492</td>\n",
       "      <td>2</td>\n",
       "    </tr>\n",
       "    <tr>\n",
       "      <th>2</th>\n",
       "      <td>2018-09-20</td>\n",
       "      <td>00007d2de826758b65a93dd24ce629ed66842531df6699...</td>\n",
       "      <td>505221004</td>\n",
       "      <td>0.015237</td>\n",
       "      <td>2</td>\n",
       "    </tr>\n",
       "    <tr>\n",
       "      <th>3</th>\n",
       "      <td>2018-09-20</td>\n",
       "      <td>00007d2de826758b65a93dd24ce629ed66842531df6699...</td>\n",
       "      <td>685687003</td>\n",
       "      <td>0.016932</td>\n",
       "      <td>2</td>\n",
       "    </tr>\n",
       "    <tr>\n",
       "      <th>4</th>\n",
       "      <td>2018-09-20</td>\n",
       "      <td>00007d2de826758b65a93dd24ce629ed66842531df6699...</td>\n",
       "      <td>685687004</td>\n",
       "      <td>0.016932</td>\n",
       "      <td>2</td>\n",
       "    </tr>\n",
       "  </tbody>\n",
       "</table>\n",
       "</div>"
      ],
      "text/plain": [
       "        t_dat                                        customer_id article_id  \\\n",
       "0  2018-09-20  000058a12d5b43e67d225668fa1f8d618c13dc232df0ca...  663713001   \n",
       "1  2018-09-20  000058a12d5b43e67d225668fa1f8d618c13dc232df0ca...  541518023   \n",
       "2  2018-09-20  00007d2de826758b65a93dd24ce629ed66842531df6699...  505221004   \n",
       "3  2018-09-20  00007d2de826758b65a93dd24ce629ed66842531df6699...  685687003   \n",
       "4  2018-09-20  00007d2de826758b65a93dd24ce629ed66842531df6699...  685687004   \n",
       "\n",
       "      price  sales_channel_id  \n",
       "0  0.050831                 2  \n",
       "1  0.030492                 2  \n",
       "2  0.015237                 2  \n",
       "3  0.016932                 2  \n",
       "4  0.016932                 2  "
      ]
     },
     "execution_count": 3,
     "metadata": {},
     "output_type": "execute_result"
    }
   ],
   "source": [
    "# 購買データ読み込み\n",
    "df = pd.read_csv(\"/Users/yutennnnn/★コンペ/kaggleコンペ(H&M)/transactions_rakus_train.csv\", dtype={\"article_id\": str})\n",
    "print(df.shape)\n",
    "df.head()"
   ]
  },
  {
   "cell_type": "markdown",
   "id": "b0cf15e1-f310-404d-a74d-9b1f04935caa",
   "metadata": {},
   "source": [
    "----------------------------  \n",
    "t_dat：購入日付  \n",
    "customer_id：顧客の一意なid  \n",
    "article_id：各商品の一意なid  \n",
    "price：価格  \n",
    "sales_cannel_id：販売チャネル　1(店舗) or 2(オンライン) \n",
    "----------------------------"
   ]
  },
  {
   "cell_type": "code",
   "execution_count": 4,
   "id": "8c4dea45-3438-42a8-a513-5bc2b31b93a4",
   "metadata": {},
   "outputs": [
    {
     "name": "stdout",
     "output_type": "stream",
     "text": [
      "2018-09-20\n",
      "2020-09-06\n"
     ]
    }
   ],
   "source": [
    "# 購入日付の期間\n",
    "print(min(df['t_dat']))\n",
    "print(max(df['t_dat']))"
   ]
  },
  {
   "cell_type": "code",
   "execution_count": 5,
   "id": "8687c373-7c05-4383-b50a-6c3fd82ece0c",
   "metadata": {},
   "outputs": [
    {
     "data": {
      "text/plain": [
       "count   31218444.0000\n",
       "mean           0.0277\n",
       "std            0.0191\n",
       "min            0.0000\n",
       "25%            0.0155\n",
       "50%            0.0254\n",
       "75%            0.0339\n",
       "max            0.5915\n",
       "Name: price, dtype: float64"
      ]
     },
     "execution_count": 5,
     "metadata": {},
     "output_type": "execute_result"
    }
   ],
   "source": [
    "# 価格の統計量\n",
    "pd.set_option('display.float_format', '{:.4f}'.format)\n",
    "df.describe()['price']"
   ]
  },
  {
   "cell_type": "code",
   "execution_count": 6,
   "id": "7e5a28c5-b8ce-4a19-ba15-4e9efd3e9954",
   "metadata": {},
   "outputs": [
    {
     "data": {
      "image/png": "[encoded data removed]",
      "text/plain": [
       "<Figure size 720x360 with 1 Axes>"
      ]
     },
     "metadata": {},
     "output_type": "display_data"
    }
   ],
   "source": [
    "# 価格の可視化\n",
    "sns.set_style(\"darkgrid\")\n",
    "f, ax = plt.subplots(figsize=(10,5))\n",
    "ax = sns.boxplot(data=df, x='price', color='orange')\n",
    "ax.set_xlabel('Price outliers')\n",
    "plt.show()"
   ]
  },
  {
   "cell_type": "code",
   "execution_count": 7,
   "id": "d98d7f03-2971-4c1a-b3d7-2b9c382e5c04",
   "metadata": {},
   "outputs": [
    {
     "data": {
      "text/plain": [
       "2    21981207\n",
       "1     9237237\n",
       "Name: sales_channel_id, dtype: int64"
      ]
     },
     "metadata": {},
     "output_type": "display_data"
    },
    {
     "data": {
      "image/png": "[encoded data removed]",
      "text/plain": [
       "<Figure size 576x288 with 1 Axes>"
      ]
     },
     "metadata": {},
     "output_type": "display_data"
    }
   ],
   "source": [
    "# sales_channel_id（販売チャネル：店舗orオンライン）\n",
    "sales_ch = df['sales_channel_id'].value_counts()\n",
    "sales_ch\n",
    "\n",
    "display(sales_ch)\n",
    "\n",
    "sales_ch = pd.DataFrame(sales_ch)\n",
    "\n",
    "# 円グラフ\n",
    "sizes = sales_ch['sales_channel_id']\n",
    "labels = sales_ch.index.tolist()\n",
    "fig1, ax1 = plt.subplots(figsize = (8,4))\n",
    "ax1.pie(sizes, labels=labels, autopct='%1.1f%%', startangle=0, textprops = {\"fontsize\":20, \"color\": \"black\"})\n",
    "ax1.axis('equal')\n",
    "plt.show()"
   ]
  },
  {
   "cell_type": "markdown",
   "id": "04c1d56f-90ad-4e20-8d86-a101fd57a6c1",
   "metadata": {},
   "source": [
    "↑オンライン約70％、店舗約30％"
   ]
  },
  {
   "cell_type": "code",
   "execution_count": 8,
   "id": "9acdb8a2-f464-494b-9e01-c0eee82669fd",
   "metadata": {},
   "outputs": [
    {
     "data": {
      "text/plain": [
       "customer_id\n",
       "be1981ab818cf4ef6765b2ecaea7a2cbf14ccd6e8a7ee985513d9e8e53c6d91b    1876\n",
       "b4db5e5259234574edfff958e170fe3a5e13b6f146752ca066abca3c156acc71    1404\n",
       "49beaacac0c7801c2ce2d189efe525fe80b5d37e46ed05b50a4cd88e34d0748f    1330\n",
       "a65f77281a528bf5c1e9f270141d601d116e1df33bf9df512f495ee06647a9cc    1315\n",
       "cd04ec2726dd58a8c753e0d6423e57716fd9ebcf2f14ed6012e7e5bea016b4d6    1208\n",
       "55d15396193dfd45836af3a6269a079efea339e875eff42cc0c228b002548a9d    1196\n",
       "c140410d72a41ee5e2e3ba3d7f5a860f337f1b5e41c27cf9bda5517c8774f8fa    1165\n",
       "8df45859ccd71ef1e48e2ee9d1c65d5728c31c46ae957d659fa4e5c3af6cc076    1155\n",
       "03d0011487606c37c1b1ed147fc72f285a50c05f00b9712e0fc3da400c864296    1138\n",
       "6cc121e5cc202d2bf344ffe795002bdbf87178054bcda2e57161f0ef810a4b55    1124\n",
       "Name: price, dtype: int64"
      ]
     },
     "execution_count": 8,
     "metadata": {},
     "output_type": "execute_result"
    }
   ],
   "source": [
    "# 購入数トップ10\n",
    "transaction_by_id = df.groupby('customer_id').count()\n",
    "transaction_by_id.sort_values(by='price', ascending=False)['price'][:10]"
   ]
  },
  {
   "cell_type": "markdown",
   "id": "0db6af9f-99f8-4d0b-b29a-e7eeb17db60d",
   "metadata": {},
   "source": [
    "↑個人客でなく業者かも？"
   ]
  },
  {
   "cell_type": "code",
   "execution_count": 9,
   "id": "56ebf379-cbf8-45b2-8f81-0dafc5581c3b",
   "metadata": {},
   "outputs": [
    {
     "name": "stderr",
     "output_type": "stream",
     "text": [
      "/opt/anaconda3/lib/python3.9/site-packages/seaborn/_decorators.py:36: FutureWarning: Pass the following variable as a keyword arg: x. From version 0.12, the only valid positional argument will be `data`, and passing other arguments without an explicit keyword will result in an error or misinterpretation.\n",
      "  warnings.warn(\n"
     ]
    },
    {
     "data": {
      "image/png": "[encoded data removed]",
      "text/plain": [
       "<Figure size 432x288 with 1 Axes>"
      ]
     },
     "metadata": {},
     "output_type": "display_data"
    }
   ],
   "source": [
    "# 顧客ごとの購入回数をみる\n",
    "\n",
    "# 新たにデータフレーム作成\n",
    "df_customers = df['customer_id'].value_counts()\n",
    "df_customers = df_customers.reset_index()\n",
    "df_customers.columns = ['customer_id', 'count']\n",
    "\n",
    "# 元の購買データへマージ\n",
    "df_customers_merge = pd.merge(df, df_customers, on='customer_id')\n",
    "\n",
    "# 箱ひげ図\n",
    "sns.boxplot(df_customers_merge['count'])\n",
    "plt.show()"
   ]
  },
  {
   "cell_type": "code",
   "execution_count": 10,
   "id": "9766414e-c671-44bc-8182-d5336d1e87a0",
   "metadata": {},
   "outputs": [
    {
     "data": {
      "text/html": [
       "<div>\n",
       "<style scoped>\n",
       "    .dataframe tbody tr th:only-of-type {\n",
       "        vertical-align: middle;\n",
       "    }\n",
       "\n",
       "    .dataframe tbody tr th {\n",
       "        vertical-align: top;\n",
       "    }\n",
       "\n",
       "    .dataframe thead th {\n",
       "        text-align: right;\n",
       "    }\n",
       "</style>\n",
       "<table border=\"1\" class=\"dataframe\">\n",
       "  <thead>\n",
       "    <tr style=\"text-align: right;\">\n",
       "      <th></th>\n",
       "      <th>article_id</th>\n",
       "    </tr>\n",
       "  </thead>\n",
       "  <tbody>\n",
       "    <tr>\n",
       "      <th>568595001</th>\n",
       "      <td>1</td>\n",
       "    </tr>\n",
       "    <tr>\n",
       "      <th>777443001</th>\n",
       "      <td>1</td>\n",
       "    </tr>\n",
       "    <tr>\n",
       "      <th>609138002</th>\n",
       "      <td>1</td>\n",
       "    </tr>\n",
       "    <tr>\n",
       "      <th>555470004</th>\n",
       "      <td>1</td>\n",
       "    </tr>\n",
       "    <tr>\n",
       "      <th>829600001</th>\n",
       "      <td>1</td>\n",
       "    </tr>\n",
       "    <tr>\n",
       "      <th>...</th>\n",
       "      <td>...</td>\n",
       "    </tr>\n",
       "    <tr>\n",
       "      <th>584584003</th>\n",
       "      <td>1</td>\n",
       "    </tr>\n",
       "    <tr>\n",
       "      <th>618256003</th>\n",
       "      <td>1</td>\n",
       "    </tr>\n",
       "    <tr>\n",
       "      <th>913099001</th>\n",
       "      <td>1</td>\n",
       "    </tr>\n",
       "    <tr>\n",
       "      <th>553873031</th>\n",
       "      <td>1</td>\n",
       "    </tr>\n",
       "    <tr>\n",
       "      <th>891826002</th>\n",
       "      <td>1</td>\n",
       "    </tr>\n",
       "  </tbody>\n",
       "</table>\n",
       "<p>4407 rows × 1 columns</p>\n",
       "</div>"
      ],
      "text/plain": [
       "           article_id\n",
       "568595001           1\n",
       "777443001           1\n",
       "609138002           1\n",
       "555470004           1\n",
       "829600001           1\n",
       "...               ...\n",
       "584584003           1\n",
       "618256003           1\n",
       "913099001           1\n",
       "553873031           1\n",
       "891826002           1\n",
       "\n",
       "[4407 rows x 1 columns]"
      ]
     },
     "execution_count": 10,
     "metadata": {},
     "output_type": "execute_result"
    }
   ],
   "source": [
    "# 売れ行きの少ない商品（1個しか売れていない）\n",
    "df_article_value_counts = df['article_id'].value_counts()\n",
    "df_article_value_counts = pd.DataFrame(df_article_value_counts)\n",
    "df_article_value_counts.query('article_id < 2')"
   ]
  },
  {
   "cell_type": "markdown",
   "id": "1c9379e3-6037-4cc6-956c-fcbfc3094db4",
   "metadata": {},
   "source": [
    "↑全アイテム約105000個のうち、約4％が1個しか売れていない。"
   ]
  },
  {
   "cell_type": "code",
   "execution_count": 11,
   "id": "f036192b-61ea-45c9-b92a-0782d897a361",
   "metadata": {},
   "outputs": [
    {
     "data": {
      "text/html": [
       "<div>\n",
       "<style scoped>\n",
       "    .dataframe tbody tr th:only-of-type {\n",
       "        vertical-align: middle;\n",
       "    }\n",
       "\n",
       "    .dataframe tbody tr th {\n",
       "        vertical-align: top;\n",
       "    }\n",
       "\n",
       "    .dataframe thead th {\n",
       "        text-align: right;\n",
       "    }\n",
       "</style>\n",
       "<table border=\"1\" class=\"dataframe\">\n",
       "  <thead>\n",
       "    <tr style=\"text-align: right;\">\n",
       "      <th></th>\n",
       "      <th>article_id</th>\n",
       "    </tr>\n",
       "  </thead>\n",
       "  <tbody>\n",
       "    <tr>\n",
       "      <th>592743054</th>\n",
       "      <td>9</td>\n",
       "    </tr>\n",
       "    <tr>\n",
       "      <th>695051004</th>\n",
       "      <td>9</td>\n",
       "    </tr>\n",
       "    <tr>\n",
       "      <th>662371004</th>\n",
       "      <td>9</td>\n",
       "    </tr>\n",
       "    <tr>\n",
       "      <th>768300001</th>\n",
       "      <td>9</td>\n",
       "    </tr>\n",
       "    <tr>\n",
       "      <th>874113026</th>\n",
       "      <td>9</td>\n",
       "    </tr>\n",
       "    <tr>\n",
       "      <th>...</th>\n",
       "      <td>...</td>\n",
       "    </tr>\n",
       "    <tr>\n",
       "      <th>584584003</th>\n",
       "      <td>1</td>\n",
       "    </tr>\n",
       "    <tr>\n",
       "      <th>618256003</th>\n",
       "      <td>1</td>\n",
       "    </tr>\n",
       "    <tr>\n",
       "      <th>913099001</th>\n",
       "      <td>1</td>\n",
       "    </tr>\n",
       "    <tr>\n",
       "      <th>553873031</th>\n",
       "      <td>1</td>\n",
       "    </tr>\n",
       "    <tr>\n",
       "      <th>891826002</th>\n",
       "      <td>1</td>\n",
       "    </tr>\n",
       "  </tbody>\n",
       "</table>\n",
       "<p>20733 rows × 1 columns</p>\n",
       "</div>"
      ],
      "text/plain": [
       "           article_id\n",
       "592743054           9\n",
       "695051004           9\n",
       "662371004           9\n",
       "768300001           9\n",
       "874113026           9\n",
       "...               ...\n",
       "584584003           1\n",
       "618256003           1\n",
       "913099001           1\n",
       "553873031           1\n",
       "891826002           1\n",
       "\n",
       "[20733 rows x 1 columns]"
      ]
     },
     "execution_count": 11,
     "metadata": {},
     "output_type": "execute_result"
    }
   ],
   "source": [
    "# 売れ行きの少ないアイテム（10個未満）\n",
    "df_article_value_counts.query('article_id < 10')"
   ]
  },
  {
   "cell_type": "markdown",
   "id": "41f610c3-5690-42ab-bd59-8751488bc686",
   "metadata": {},
   "source": [
    "↑全アイテム約105,000個のうち、約20％が販売数10個未満。"
   ]
  },
  {
   "cell_type": "code",
   "execution_count": 12,
   "id": "8505d8f1-dc8e-4d36-bb29-1f6f82c38e65",
   "metadata": {},
   "outputs": [
    {
     "data": {
      "text/plain": [
       "304.39794067747033"
      ]
     },
     "execution_count": 12,
     "metadata": {},
     "output_type": "execute_result"
    }
   ],
   "source": [
    "# 販売数の平均値\n",
    "df_article_value_counts['article_id'].mean()"
   ]
  },
  {
   "cell_type": "code",
   "execution_count": 13,
   "id": "90ff2962-4c59-4a1a-b39e-8dce446fc3d7",
   "metadata": {},
   "outputs": [
    {
     "data": {
      "text/plain": [
       "65.0"
      ]
     },
     "execution_count": 13,
     "metadata": {},
     "output_type": "execute_result"
    }
   ],
   "source": [
    "# 販売数の中央値\n",
    "df_article_value_counts['article_id'].median()"
   ]
  },
  {
   "cell_type": "code",
   "execution_count": 14,
   "id": "9af2ba6e-409f-4764-97c5-a7aa444e00bd",
   "metadata": {},
   "outputs": [
    {
     "data": {
      "text/plain": [
       "663565"
      ]
     },
     "execution_count": 14,
     "metadata": {},
     "output_type": "execute_result"
    }
   ],
   "source": [
    "# 同じ商品を複数回買ってる人数を調査\n",
    "\n",
    "# エンコーディング用のデータフレームを作っておく\n",
    "df_encoding = df\n",
    "\n",
    "# カスタマーIDをラベルエンコーディング\n",
    "le = LabelEncoder()\n",
    "df_encoding['customer_id'] = le.fit_transform(df_encoding['customer_id'])\n",
    "\n",
    "# エンコーディング結果の確認\n",
    "df_encoding['customer_id'].unique()\n",
    "\n",
    "# 重複行の抽出\n",
    "df_duplicate = df_encoding.duplicated(subset=['customer_id', 'article_id'])\n",
    "\n",
    "# データフレーム型へ変更\n",
    "df_duplicate = pd.DataFrame(df_duplicate)\n",
    "df_duplicate\n",
    "\n",
    "# 重複行を確認（Trueが重複）\n",
    "df_duplicate.value_counts()\n",
    "\n",
    "# 元データに重複行をマージ\n",
    "df_merge = pd.merge(df, df_duplicate, left_index=True, right_index=True)\n",
    "df_merge.head()\n",
    "\n",
    "# マージデータのカラム名を変更\n",
    "df_merge = df_merge.rename(columns={0 : 'duplicate'})\n",
    "df_merge.head()\n",
    "\n",
    "# 重複行のみ抽出\n",
    "df_duplicated = df_merge.query('duplicate == True')\n",
    "duplicated_customer_id = df_duplicated['customer_id'].unique()\n",
    "len(duplicated_customer_id)"
   ]
  },
  {
   "cell_type": "markdown",
   "id": "3b660411-8c96-48fc-94f1-cdd4fd78d4d3",
   "metadata": {},
   "source": [
    "↑同じアイテムを複数回買っている人数は約66万人  "
   ]
  },
  {
   "cell_type": "markdown",
   "id": "c82089a6-0ca5-47a2-8bba-0e518ec1e606",
   "metadata": {},
   "source": [
    "  "
   ]
  },
  {
   "cell_type": "markdown",
   "id": "81033eec-3962-450a-a68b-75ced4008c02",
   "metadata": {},
   "source": [
    "  "
   ]
  },
  {
   "cell_type": "markdown",
   "id": "bb1b58a6-8445-473a-b8c1-2715636016e9",
   "metadata": {},
   "source": [
    "  "
   ]
  },
  {
   "cell_type": "markdown",
   "id": "ee9430b1-29bc-4a4e-ad77-625b88dce8c4",
   "metadata": {},
   "source": [
    "# ▼商品データ"
   ]
  },
  {
   "cell_type": "code",
   "execution_count": 15,
   "id": "5c64fcfe-067b-4d54-af3d-0305a55f306c",
   "metadata": {},
   "outputs": [
    {
     "name": "stdout",
     "output_type": "stream",
     "text": [
      "(105542, 25)\n"
     ]
    },
    {
     "data": {
      "text/html": [
       "<div>\n",
       "<style scoped>\n",
       "    .dataframe tbody tr th:only-of-type {\n",
       "        vertical-align: middle;\n",
       "    }\n",
       "\n",
       "    .dataframe tbody tr th {\n",
       "        vertical-align: top;\n",
       "    }\n",
       "\n",
       "    .dataframe thead th {\n",
       "        text-align: right;\n",
       "    }\n",
       "</style>\n",
       "<table border=\"1\" class=\"dataframe\">\n",
       "  <thead>\n",
       "    <tr style=\"text-align: right;\">\n",
       "      <th></th>\n",
       "      <th>article_id</th>\n",
       "      <th>product_code</th>\n",
       "      <th>prod_name</th>\n",
       "      <th>product_type_no</th>\n",
       "      <th>product_type_name</th>\n",
       "      <th>product_group_name</th>\n",
       "      <th>graphical_appearance_no</th>\n",
       "      <th>graphical_appearance_name</th>\n",
       "      <th>colour_group_code</th>\n",
       "      <th>colour_group_name</th>\n",
       "      <th>...</th>\n",
       "      <th>department_name</th>\n",
       "      <th>index_code</th>\n",
       "      <th>index_name</th>\n",
       "      <th>index_group_no</th>\n",
       "      <th>index_group_name</th>\n",
       "      <th>section_no</th>\n",
       "      <th>section_name</th>\n",
       "      <th>garment_group_no</th>\n",
       "      <th>garment_group_name</th>\n",
       "      <th>detail_desc</th>\n",
       "    </tr>\n",
       "  </thead>\n",
       "  <tbody>\n",
       "    <tr>\n",
       "      <th>0</th>\n",
       "      <td>108775015</td>\n",
       "      <td>108775</td>\n",
       "      <td>Strap top</td>\n",
       "      <td>253</td>\n",
       "      <td>Vest top</td>\n",
       "      <td>Garment Upper body</td>\n",
       "      <td>1010016</td>\n",
       "      <td>Solid</td>\n",
       "      <td>9</td>\n",
       "      <td>Black</td>\n",
       "      <td>...</td>\n",
       "      <td>Jersey Basic</td>\n",
       "      <td>A</td>\n",
       "      <td>Ladieswear</td>\n",
       "      <td>1</td>\n",
       "      <td>Ladieswear</td>\n",
       "      <td>16</td>\n",
       "      <td>Womens Everyday Basics</td>\n",
       "      <td>1002</td>\n",
       "      <td>Jersey Basic</td>\n",
       "      <td>Jersey top with narrow shoulder straps.</td>\n",
       "    </tr>\n",
       "    <tr>\n",
       "      <th>1</th>\n",
       "      <td>108775044</td>\n",
       "      <td>108775</td>\n",
       "      <td>Strap top</td>\n",
       "      <td>253</td>\n",
       "      <td>Vest top</td>\n",
       "      <td>Garment Upper body</td>\n",
       "      <td>1010016</td>\n",
       "      <td>Solid</td>\n",
       "      <td>10</td>\n",
       "      <td>White</td>\n",
       "      <td>...</td>\n",
       "      <td>Jersey Basic</td>\n",
       "      <td>A</td>\n",
       "      <td>Ladieswear</td>\n",
       "      <td>1</td>\n",
       "      <td>Ladieswear</td>\n",
       "      <td>16</td>\n",
       "      <td>Womens Everyday Basics</td>\n",
       "      <td>1002</td>\n",
       "      <td>Jersey Basic</td>\n",
       "      <td>Jersey top with narrow shoulder straps.</td>\n",
       "    </tr>\n",
       "    <tr>\n",
       "      <th>2</th>\n",
       "      <td>108775051</td>\n",
       "      <td>108775</td>\n",
       "      <td>Strap top (1)</td>\n",
       "      <td>253</td>\n",
       "      <td>Vest top</td>\n",
       "      <td>Garment Upper body</td>\n",
       "      <td>1010017</td>\n",
       "      <td>Stripe</td>\n",
       "      <td>11</td>\n",
       "      <td>Off White</td>\n",
       "      <td>...</td>\n",
       "      <td>Jersey Basic</td>\n",
       "      <td>A</td>\n",
       "      <td>Ladieswear</td>\n",
       "      <td>1</td>\n",
       "      <td>Ladieswear</td>\n",
       "      <td>16</td>\n",
       "      <td>Womens Everyday Basics</td>\n",
       "      <td>1002</td>\n",
       "      <td>Jersey Basic</td>\n",
       "      <td>Jersey top with narrow shoulder straps.</td>\n",
       "    </tr>\n",
       "    <tr>\n",
       "      <th>3</th>\n",
       "      <td>110065001</td>\n",
       "      <td>110065</td>\n",
       "      <td>OP T-shirt (Idro)</td>\n",
       "      <td>306</td>\n",
       "      <td>Bra</td>\n",
       "      <td>Underwear</td>\n",
       "      <td>1010016</td>\n",
       "      <td>Solid</td>\n",
       "      <td>9</td>\n",
       "      <td>Black</td>\n",
       "      <td>...</td>\n",
       "      <td>Clean Lingerie</td>\n",
       "      <td>B</td>\n",
       "      <td>Lingeries/Tights</td>\n",
       "      <td>1</td>\n",
       "      <td>Ladieswear</td>\n",
       "      <td>61</td>\n",
       "      <td>Womens Lingerie</td>\n",
       "      <td>1017</td>\n",
       "      <td>Under-, Nightwear</td>\n",
       "      <td>Microfibre T-shirt bra with underwired, moulde...</td>\n",
       "    </tr>\n",
       "    <tr>\n",
       "      <th>4</th>\n",
       "      <td>110065002</td>\n",
       "      <td>110065</td>\n",
       "      <td>OP T-shirt (Idro)</td>\n",
       "      <td>306</td>\n",
       "      <td>Bra</td>\n",
       "      <td>Underwear</td>\n",
       "      <td>1010016</td>\n",
       "      <td>Solid</td>\n",
       "      <td>10</td>\n",
       "      <td>White</td>\n",
       "      <td>...</td>\n",
       "      <td>Clean Lingerie</td>\n",
       "      <td>B</td>\n",
       "      <td>Lingeries/Tights</td>\n",
       "      <td>1</td>\n",
       "      <td>Ladieswear</td>\n",
       "      <td>61</td>\n",
       "      <td>Womens Lingerie</td>\n",
       "      <td>1017</td>\n",
       "      <td>Under-, Nightwear</td>\n",
       "      <td>Microfibre T-shirt bra with underwired, moulde...</td>\n",
       "    </tr>\n",
       "  </tbody>\n",
       "</table>\n",
       "<p>5 rows × 25 columns</p>\n",
       "</div>"
      ],
      "text/plain": [
       "   article_id  product_code          prod_name  product_type_no  \\\n",
       "0   108775015        108775          Strap top              253   \n",
       "1   108775044        108775          Strap top              253   \n",
       "2   108775051        108775      Strap top (1)              253   \n",
       "3   110065001        110065  OP T-shirt (Idro)              306   \n",
       "4   110065002        110065  OP T-shirt (Idro)              306   \n",
       "\n",
       "  product_type_name  product_group_name  graphical_appearance_no  \\\n",
       "0          Vest top  Garment Upper body                  1010016   \n",
       "1          Vest top  Garment Upper body                  1010016   \n",
       "2          Vest top  Garment Upper body                  1010017   \n",
       "3               Bra           Underwear                  1010016   \n",
       "4               Bra           Underwear                  1010016   \n",
       "\n",
       "  graphical_appearance_name  colour_group_code colour_group_name  ...  \\\n",
       "0                     Solid                  9             Black  ...   \n",
       "1                     Solid                 10             White  ...   \n",
       "2                    Stripe                 11         Off White  ...   \n",
       "3                     Solid                  9             Black  ...   \n",
       "4                     Solid                 10             White  ...   \n",
       "\n",
       "   department_name index_code        index_name index_group_no  \\\n",
       "0     Jersey Basic          A        Ladieswear              1   \n",
       "1     Jersey Basic          A        Ladieswear              1   \n",
       "2     Jersey Basic          A        Ladieswear              1   \n",
       "3   Clean Lingerie          B  Lingeries/Tights              1   \n",
       "4   Clean Lingerie          B  Lingeries/Tights              1   \n",
       "\n",
       "   index_group_name section_no            section_name garment_group_no  \\\n",
       "0        Ladieswear         16  Womens Everyday Basics             1002   \n",
       "1        Ladieswear         16  Womens Everyday Basics             1002   \n",
       "2        Ladieswear         16  Womens Everyday Basics             1002   \n",
       "3        Ladieswear         61         Womens Lingerie             1017   \n",
       "4        Ladieswear         61         Womens Lingerie             1017   \n",
       "\n",
       "   garment_group_name                                        detail_desc  \n",
       "0        Jersey Basic            Jersey top with narrow shoulder straps.  \n",
       "1        Jersey Basic            Jersey top with narrow shoulder straps.  \n",
       "2        Jersey Basic            Jersey top with narrow shoulder straps.  \n",
       "3   Under-, Nightwear  Microfibre T-shirt bra with underwired, moulde...  \n",
       "4   Under-, Nightwear  Microfibre T-shirt bra with underwired, moulde...  \n",
       "\n",
       "[5 rows x 25 columns]"
      ]
     },
     "execution_count": 15,
     "metadata": {},
     "output_type": "execute_result"
    }
   ],
   "source": [
    "# 商品データ読み込み\n",
    "article = pd.read_csv(\"/Users/yutennnnn/★コンペ/kaggleコンペ(H&M)/articles.csv\")\n",
    "print(article.shape)\n",
    "article.head()"
   ]
  },
  {
   "cell_type": "markdown",
   "id": "a4ae3c08-64b2-4c30-aa0c-dcaf54fd82bc",
   "metadata": {},
   "source": [
    "------------------------------------------  \n",
    "article_id： 一意のid  \n",
    "product_code, prod_name： 各商品の一意なidと名称  \n",
    "product_type, product_type_name： 商品をグループ化したものとその名称  \n",
    "graphical_appearance_no, graphical_appearance_name： 画像のグループとその名前  \n",
    "color_group_code, color_group_name： 色のグループとその名前  \n",
    "------------------------------------------"
   ]
  },
  {
   "cell_type": "code",
   "execution_count": 16,
   "id": "a777d75c-1b77-40bb-8758-e9874ddea2d9",
   "metadata": {},
   "outputs": [
    {
     "name": "stdout",
     "output_type": "stream",
     "text": [
      "len(article)：105542\n",
      " アイテム数 105542\n"
     ]
    }
   ],
   "source": [
    "# アイテム数\n",
    "print(f'len(article)：{len(article)}')\n",
    "articole_cnt = article['article_id'].nunique()\n",
    "print(f' アイテム数 {articole_cnt}')"
   ]
  },
  {
   "cell_type": "code",
   "execution_count": 17,
   "id": "44a7c2e9-d6ca-46c2-b80a-c1cc4b193d90",
   "metadata": {},
   "outputs": [],
   "source": [
    "# 商品データの特性\n",
    "# article.info()"
   ]
  },
  {
   "cell_type": "code",
   "execution_count": 20,
   "id": "03af0bc9-1424-432b-ab7a-7bce9db213a1",
   "metadata": {},
   "outputs": [
    {
     "data": {
      "image/png": "[encoded data removed]",
      "text/plain": [
       "<Figure size 576x288 with 1 Axes>"
      ]
     },
     "metadata": {},
     "output_type": "display_data"
    }
   ],
   "source": [
    "# 商品カテゴリ（大項目）\n",
    "index_name_cnts = article['index_group_name'].value_counts().sort_values(ascending=False)\n",
    "index_name_item = pd.DataFrame(index_name_cnts)\n",
    "index_name_item = index_name_item[:20]\n",
    "\n",
    "# インデックスを列に変換\n",
    "index_name_item.reset_index(inplace=True)\n",
    "# 列名変更\n",
    "index_name_item = index_name_item.rename(columns={'index_group_name':'index_type_name'})\n",
    "index_name_item = index_name_item.rename(columns={'index':'index_group_name'})\n",
    "\n",
    "# 円グラフ\n",
    "figure, ax = plt.subplots(1,1, figsize = (8,4))\n",
    "plt.pie(index_name_item['index_type_name'], \n",
    "        labels=index_name_item['index_group_name'].values,\n",
    "        autopct=\"%.2f\",\n",
    "        textprops = {\"fontsize\":12, \"color\": \"black\"})\n",
    "plt.show()"
   ]
  },
  {
   "cell_type": "markdown",
   "id": "94dad86e-d255-4493-8d2c-3d965bcb84f9",
   "metadata": {},
   "source": [
    "↑レディスウェアの占める割合が最多。スポーツウェア最小。"
   ]
  },
  {
   "cell_type": "code",
   "execution_count": 21,
   "id": "99e67980-e1b0-404f-8815-31ed7b206f0b",
   "metadata": {},
   "outputs": [
    {
     "data": {
      "image/png": "[encoded data removed]",
      "text/plain": [
       "<Figure size 576x288 with 1 Axes>"
      ]
     },
     "metadata": {},
     "output_type": "display_data"
    }
   ],
   "source": [
    "# 商品カテゴリ（中項目）\n",
    "\n",
    "product_group_name_cnts = article['product_group_name'].value_counts()\n",
    "product_group_name_item = pd.DataFrame(product_group_name_cnts)\n",
    "\n",
    "# インデックスを列に変換\n",
    "product_group_name_item.reset_index(inplace=True)\n",
    "\n",
    "# 列名変更\n",
    "product_group_name_item = product_group_name_item.rename(columns={'product_group_name':'cnt'})\n",
    "product_group_name_item = product_group_name_item.rename(columns={'index':'product_group_name'})\n",
    "\n",
    "# Swimwear以降がothersとして集約\n",
    "others = product_group_name_item.loc[6:18,'cnt'].sum()\n",
    "\n",
    "# othersに集約した商品をデータフレームから削除\n",
    "product_group_name_item = product_group_name_item.drop(index=[6,7,8,9,10,11,12,13,14,15,16,17,18], axis=0)\n",
    "\n",
    "# もとのデータフレームにothers行を追加\n",
    "product_group_name_item.loc[6] = ['others', others]\n",
    "\n",
    "# 円グラフ\n",
    "figure, ax = plt.subplots(1,1, figsize = (8,4))\n",
    "plt.pie(product_group_name_item['cnt'], \n",
    "        labels=product_group_name_item['product_group_name'].values,\n",
    "        autopct=\"%.2f\",\n",
    "        textprops = {\"fontsize\":12, \"color\": \"black\"})\n",
    "plt.show()"
   ]
  },
  {
   "cell_type": "markdown",
   "id": "85050236-2b59-4cd8-8d36-eca9efdb27ac",
   "metadata": {},
   "source": [
    "↑トップスが最多で約40％、次いでボトムスやアクセサリーが多い。"
   ]
  },
  {
   "cell_type": "code",
   "execution_count": 22,
   "id": "aa153700-3224-47fc-ba56-cc9155654d92",
   "metadata": {},
   "outputs": [
    {
     "data": {
      "image/png": "[encoded data removed]",
      "text/plain": [
       "<Figure size 576x288 with 1 Axes>"
      ]
     },
     "metadata": {},
     "output_type": "display_data"
    }
   ],
   "source": [
    "# 商品カテゴリ（小項目）\n",
    "product_type_name_cnt = article['product_type_name'].value_counts()\n",
    "product_type_name_item = pd.DataFrame(product_type_name_cnt)\n",
    "product_type_name_item = product_type_name_item[:15]\n",
    "\n",
    "# インデックスを列に変換\n",
    "product_type_name_item.reset_index(inplace=True)\n",
    "\n",
    "# 列名変更\n",
    "product_type_name_item = product_type_name_item.rename(columns={'product_type_name':'cnt'})\n",
    "product_type_name_item = product_type_name_item.rename(columns={'index':'product_type_name'})\n",
    "\n",
    "# Swimwear以降がothersとして集約\n",
    "others = product_type_name_item.loc[10:15,'cnt'].sum()\n",
    "\n",
    "# othersに集約した商品をデータフレームから削除\n",
    "product_type_name_item = product_type_name_item.drop(index=[9,10,11,12,13,14], axis=0)\n",
    "\n",
    "# もとのデータフレームにothers行を追加\n",
    "product_type_name_item.loc[9] = ['others', others]\n",
    "\n",
    "# 円グラフ\n",
    "figure, ax = plt.subplots(1,1, figsize = (8,4))\n",
    "plt.pie(product_type_name_item['cnt'], \n",
    "        labels=product_type_name_item['product_type_name'].values,\n",
    "        autopct=\"%.2f\",\n",
    "        textprops = {\"fontsize\":12, \"color\": \"black\"})\n",
    "plt.show()"
   ]
  },
  {
   "cell_type": "markdown",
   "id": "6e05ea2e-a6d5-4a86-8f80-15b6cdac7502",
   "metadata": {},
   "source": [
    "↑中項目で最も多かったトップスは、Tシャツやセーター、ドレスなどが特に多いのが確認できる。"
   ]
  },
  {
   "cell_type": "code",
   "execution_count": 23,
   "id": "cb206aa4-2f7a-458d-b4d3-8850040921fc",
   "metadata": {},
   "outputs": [
    {
     "data": {
      "text/plain": [
       "<AxesSubplot:>"
      ]
     },
     "execution_count": 23,
     "metadata": {},
     "output_type": "execute_result"
    },
    {
     "data": {
      "image/png": "[encoded data removed]",
      "text/plain": [
       "<Figure size 720x360 with 1 Axes>"
      ]
     },
     "metadata": {},
     "output_type": "display_data"
    }
   ],
   "source": [
    "# 商品カラー\n",
    "colour_group_name_cnts = article['colour_group_name'].value_counts()\n",
    "colour_group_name_item = pd.DataFrame(colour_group_name_cnts)\n",
    "colour_group_name_item = colour_group_name_item[:15]\n",
    "\n",
    "figure, ax = plt.subplots(1,1, figsize = (10,5))\n",
    "colour_group_name_item.plot.barh(ax = ax) # 棒グラフ"
   ]
  },
  {
   "cell_type": "markdown",
   "id": "ab57e80c-5638-497c-88ff-c32d1db682da",
   "metadata": {},
   "source": [
    "↑ブラックが圧倒的に多く、次いでダークブルー、ホワイト。"
   ]
  },
  {
   "cell_type": "markdown",
   "id": "cfb62cb5-123a-4c7d-ac5f-f95433e3e6d9",
   "metadata": {},
   "source": [
    "  "
   ]
  },
  {
   "cell_type": "markdown",
   "id": "3ef978b5-c2a9-4c4d-af7c-e77776bf0e07",
   "metadata": {},
   "source": [
    "  "
   ]
  },
  {
   "cell_type": "markdown",
   "id": "41dce556-e6cf-4c3f-b541-723fc06148e6",
   "metadata": {},
   "source": [
    "  "
   ]
  },
  {
   "cell_type": "markdown",
   "id": "7e38382b-72a3-42f4-9644-46ec9db66a68",
   "metadata": {},
   "source": [
    "# ▼顧客データ"
   ]
  },
  {
   "cell_type": "code",
   "execution_count": 21,
   "id": "af55b6f3-d92e-41d8-85b9-b45f495bc1c9",
   "metadata": {},
   "outputs": [
    {
     "name": "stdout",
     "output_type": "stream",
     "text": [
      "(1362281, 7)\n"
     ]
    },
    {
     "data": {
      "text/html": [
       "<div>\n",
       "<style scoped>\n",
       "    .dataframe tbody tr th:only-of-type {\n",
       "        vertical-align: middle;\n",
       "    }\n",
       "\n",
       "    .dataframe tbody tr th {\n",
       "        vertical-align: top;\n",
       "    }\n",
       "\n",
       "    .dataframe thead th {\n",
       "        text-align: right;\n",
       "    }\n",
       "</style>\n",
       "<table border=\"1\" class=\"dataframe\">\n",
       "  <thead>\n",
       "    <tr style=\"text-align: right;\">\n",
       "      <th></th>\n",
       "      <th>customer_id</th>\n",
       "      <th>FN</th>\n",
       "      <th>Active</th>\n",
       "      <th>club_member_status</th>\n",
       "      <th>fashion_news_frequency</th>\n",
       "      <th>age</th>\n",
       "      <th>postal_code</th>\n",
       "    </tr>\n",
       "  </thead>\n",
       "  <tbody>\n",
       "    <tr>\n",
       "      <th>0</th>\n",
       "      <td>00000dbacae5abe5e23885899a1fa44253a17956c6d1c3...</td>\n",
       "      <td>NaN</td>\n",
       "      <td>NaN</td>\n",
       "      <td>ACTIVE</td>\n",
       "      <td>NONE</td>\n",
       "      <td>49.0000</td>\n",
       "      <td>52043ee2162cf5aa7ee79974281641c6f11a68d276429a...</td>\n",
       "    </tr>\n",
       "    <tr>\n",
       "      <th>1</th>\n",
       "      <td>0000423b00ade91418cceaf3b26c6af3dd342b51fd051e...</td>\n",
       "      <td>NaN</td>\n",
       "      <td>NaN</td>\n",
       "      <td>ACTIVE</td>\n",
       "      <td>NONE</td>\n",
       "      <td>25.0000</td>\n",
       "      <td>2973abc54daa8a5f8ccfe9362140c63247c5eee03f1d93...</td>\n",
       "    </tr>\n",
       "    <tr>\n",
       "      <th>2</th>\n",
       "      <td>000058a12d5b43e67d225668fa1f8d618c13dc232df0ca...</td>\n",
       "      <td>NaN</td>\n",
       "      <td>NaN</td>\n",
       "      <td>ACTIVE</td>\n",
       "      <td>NONE</td>\n",
       "      <td>24.0000</td>\n",
       "      <td>64f17e6a330a85798e4998f62d0930d14db8db1c054af6...</td>\n",
       "    </tr>\n",
       "    <tr>\n",
       "      <th>3</th>\n",
       "      <td>00005ca1c9ed5f5146b52ac8639a40ca9d57aeff4d1bd2...</td>\n",
       "      <td>NaN</td>\n",
       "      <td>NaN</td>\n",
       "      <td>ACTIVE</td>\n",
       "      <td>NONE</td>\n",
       "      <td>54.0000</td>\n",
       "      <td>5d36574f52495e81f019b680c843c443bd343d5ca5b1c2...</td>\n",
       "    </tr>\n",
       "    <tr>\n",
       "      <th>4</th>\n",
       "      <td>00006413d8573cd20ed7128e53b7b13819fe5cfc2d801f...</td>\n",
       "      <td>1.0000</td>\n",
       "      <td>1.0000</td>\n",
       "      <td>ACTIVE</td>\n",
       "      <td>Regularly</td>\n",
       "      <td>52.0000</td>\n",
       "      <td>25fa5ddee9aac01b35208d01736e57942317d756b32ddd...</td>\n",
       "    </tr>\n",
       "  </tbody>\n",
       "</table>\n",
       "</div>"
      ],
      "text/plain": [
       "                                         customer_id     FN  Active  \\\n",
       "0  00000dbacae5abe5e23885899a1fa44253a17956c6d1c3...    NaN     NaN   \n",
       "1  0000423b00ade91418cceaf3b26c6af3dd342b51fd051e...    NaN     NaN   \n",
       "2  000058a12d5b43e67d225668fa1f8d618c13dc232df0ca...    NaN     NaN   \n",
       "3  00005ca1c9ed5f5146b52ac8639a40ca9d57aeff4d1bd2...    NaN     NaN   \n",
       "4  00006413d8573cd20ed7128e53b7b13819fe5cfc2d801f... 1.0000  1.0000   \n",
       "\n",
       "  club_member_status fashion_news_frequency     age  \\\n",
       "0             ACTIVE                   NONE 49.0000   \n",
       "1             ACTIVE                   NONE 25.0000   \n",
       "2             ACTIVE                   NONE 24.0000   \n",
       "3             ACTIVE                   NONE 54.0000   \n",
       "4             ACTIVE              Regularly 52.0000   \n",
       "\n",
       "                                         postal_code  \n",
       "0  52043ee2162cf5aa7ee79974281641c6f11a68d276429a...  \n",
       "1  2973abc54daa8a5f8ccfe9362140c63247c5eee03f1d93...  \n",
       "2  64f17e6a330a85798e4998f62d0930d14db8db1c054af6...  \n",
       "3  5d36574f52495e81f019b680c843c443bd343d5ca5b1c2...  \n",
       "4  25fa5ddee9aac01b35208d01736e57942317d756b32ddd...  "
      ]
     },
     "execution_count": 21,
     "metadata": {},
     "output_type": "execute_result"
    }
   ],
   "source": [
    "# 顧客データ読み込み\n",
    "customers = pd.read_csv(\"/Users/yutennnnn/★コンペ/kaggleコンペ(H&M)/customers_rakus.csv\")\n",
    "print(customers.shape)\n",
    "customers.head()"
   ]
  },
  {
   "cell_type": "markdown",
   "id": "4f0dbf0f-8688-4bb6-b94b-8e3a83d66524",
   "metadata": {},
   "source": [
    "--------------------------------------  \n",
    "customer_id：各顧客の一意なid  \n",
    "FN：0 or 1  \n",
    "Active：0 or 1 \n",
    "club_member_status：会員情報  \n",
    "fashion_news_frequency：ニュースを送る頻度  \n",
    "age：現在の年齢  \n",
    "postal_code：郵便番号  \n",
    "--------------------------------------"
   ]
  },
  {
   "cell_type": "code",
   "execution_count": 22,
   "id": "1b1e5f8a-830a-439a-a854-a4d2d2025643",
   "metadata": {},
   "outputs": [
    {
     "name": "stdout",
     "output_type": "stream",
     "text": [
      "            age\n",
      "20 – 25  283359\n",
      "25 – 30  225704\n",
      "30 – 35  130379\n",
      "35 – 40   79344\n",
      "40 – 45   88402\n",
      "45 – 50  127083\n",
      "50 – 55  127915\n",
      "55 – 60   80629\n",
      "60 – 65   41316\n",
      "65 – 70   21547\n"
     ]
    },
    {
     "data": {
      "text/plain": [
       "<AxesSubplot:>"
      ]
     },
     "execution_count": 22,
     "metadata": {},
     "output_type": "execute_result"
    },
    {
     "data": {
      "image/png": "[encoded data removed]",
      "text/plain": [
       "<Figure size 576x288 with 1 Axes>"
      ]
     },
     "metadata": {},
     "output_type": "display_data"
    }
   ],
   "source": [
    "# 年齢の分布\n",
    "ages=pd.DataFrame(customers['age'].value_counts().sort_index())\n",
    "labels = [ '{0} – {1}'.format(i, i + 5) for i in range(20, 70, 5) ]\n",
    "c=pd.cut(ages.index,bins=np.arange(20, 75, 5),labels=labels)\n",
    "h_ages=ages.groupby(c).sum()\n",
    "print(h_ages)\n",
    "\n",
    "figure, ax = plt.subplots(1,1, figsize = (8,4))\n",
    "h_ages.plot.bar(ax = ax) # 棒グラフ"
   ]
  },
  {
   "cell_type": "markdown",
   "id": "92c5f077-fa75-4fa7-9118-60803d9e9606",
   "metadata": {},
   "source": [
    "↑二峰性あり  \n",
    "20〜30歳あたりがメインカスタマー  \n",
    "45〜55歳あたりは親御世代が子供服を買っている？"
   ]
  },
  {
   "cell_type": "code",
   "execution_count": 23,
   "id": "09572749-b5fe-4c94-9687-005398249799",
   "metadata": {},
   "outputs": [
    {
     "data": {
      "text/plain": [
       "ACTIVE        1263183\n",
       "PRE-CREATE      92578\n",
       "LEFT CLUB         466\n",
       "Name: club_member_status, dtype: int64"
      ]
     },
     "execution_count": 23,
     "metadata": {},
     "output_type": "execute_result"
    }
   ],
   "source": [
    "# 会員情報詳細\n",
    "customers['club_member_status'].value_counts()"
   ]
  },
  {
   "cell_type": "code",
   "execution_count": 24,
   "id": "820caed6-3545-48f3-9a6e-43ec646a1c80",
   "metadata": {},
   "outputs": [
    {
     "data": {
      "text/plain": [
       "<AxesSubplot:>"
      ]
     },
     "execution_count": 24,
     "metadata": {},
     "output_type": "execute_result"
    },
    {
     "data": {
      "image/png": "[encoded data removed]",
      "text/plain": [
       "<Figure size 576x288 with 1 Axes>"
      ]
     },
     "metadata": {},
     "output_type": "display_data"
    }
   ],
   "source": [
    "# 会員情報詳細の可視化\n",
    "club_member_status_cnts = customers['club_member_status'].value_counts().sort_values(ascending=False)\n",
    "club_member_status = pd.DataFrame(club_member_status_cnts)\n",
    "club_member_status = club_member_status[:20]\n",
    "\n",
    "figure, ax = plt.subplots(1,1, figsize = (8,4))\n",
    "club_member_status.plot.barh(ax = ax) # 棒グラフ"
   ]
  },
  {
   "cell_type": "markdown",
   "id": "4bf365b6-b963-497a-970b-815a6eefc32f",
   "metadata": {},
   "source": [
    "↑全体の約93％がアクティブ会員。"
   ]
  },
  {
   "cell_type": "code",
   "execution_count": 25,
   "id": "fbc97716-7e59-4285-9b28-16bd5a507358",
   "metadata": {},
   "outputs": [
    {
     "data": {
      "text/plain": [
       "NONE         871598\n",
       "Regularly    473843\n",
       "Monthly         840\n",
       "None              1\n",
       "Name: fashion_news_frequency, dtype: int64"
      ]
     },
     "execution_count": 25,
     "metadata": {},
     "output_type": "execute_result"
    }
   ],
   "source": [
    "# ニュースが送られている頻度\n",
    "customers['fashion_news_frequency'].value_counts()"
   ]
  },
  {
   "cell_type": "markdown",
   "id": "54dab103-d05c-448b-a952-e1f0dec9c02e",
   "metadata": {},
   "source": [
    "↑定期的（Regularly）にニュースを送られている顧客は全体の約35%。"
   ]
  },
  {
   "cell_type": "code",
   "execution_count": 26,
   "id": "52a00b99-7821-4944-b2a4-b5644db3d1fb",
   "metadata": {},
   "outputs": [
    {
     "data": {
      "text/plain": [
       "1.0000    473359\n",
       "Name: FN, dtype: int64"
      ]
     },
     "execution_count": 26,
     "metadata": {},
     "output_type": "execute_result"
    }
   ],
   "source": [
    "# ファッションニュース受け取っているか\n",
    "customers['FN'].value_counts()"
   ]
  },
  {
   "cell_type": "code",
   "execution_count": 27,
   "id": "1688ede9-d58c-4405-8731-d0e8e82064bc",
   "metadata": {},
   "outputs": [
    {
     "data": {
      "text/plain": [
       "1.0000    460899\n",
       "Name: Active, dtype: int64"
      ]
     },
     "execution_count": 27,
     "metadata": {},
     "output_type": "execute_result"
    }
   ],
   "source": [
    "# クリック？\n",
    "customers['Active'].value_counts()"
   ]
  },
  {
   "cell_type": "code",
   "execution_count": null,
   "id": "c5a44568-422c-41f8-ac9b-6f55f4b6d3bf",
   "metadata": {},
   "outputs": [],
   "source": []
  },
  {
   "cell_type": "code",
   "execution_count": null,
   "id": "2d9966a0-ff19-4b5f-a6ae-4382389b6c1a",
   "metadata": {},
   "outputs": [],
   "source": []
  },
  {
   "cell_type": "code",
   "execution_count": null,
   "id": "5dc1bc37-afdf-4e7a-9151-952443baf2c3",
   "metadata": {},
   "outputs": [],
   "source": []
  },
  {
   "cell_type": "code",
   "execution_count": null,
   "id": "c625dd04-d399-43ee-be6d-17b22b8e85cb",
   "metadata": {},
   "outputs": [],
   "source": []
  },
  {
   "cell_type": "code",
   "execution_count": null,
   "id": "addb6f92-2e8f-4ca7-a184-d60bbc36c725",
   "metadata": {},
   "outputs": [],
   "source": []
  },
  {
   "cell_type": "code",
   "execution_count": null,
   "id": "80eb3afc-6bc2-4caa-b7ea-f1377dec33b8",
   "metadata": {},
   "outputs": [],
   "source": []
  },
  {
   "cell_type": "code",
   "execution_count": null,
   "id": "a91b6866-e9b5-44d5-b7b3-ebc683b257fa",
   "metadata": {},
   "outputs": [],
   "source": []
  },
  {
   "cell_type": "code",
   "execution_count": null,
   "id": "73ec276a-74ab-4943-86b2-108e9582c33f",
   "metadata": {},
   "outputs": [],
   "source": []
  },
  {
   "cell_type": "code",
   "execution_count": null,
   "id": "2cc7c184-de99-4aed-8b75-a3f50b4b1e62",
   "metadata": {},
   "outputs": [],
   "source": []
  },
  {
   "cell_type": "code",
   "execution_count": null,
   "id": "29917897-d123-4ebc-a4db-7b5343e9c968",
   "metadata": {},
   "outputs": [],
   "source": []
  },
  {
   "cell_type": "code",
   "execution_count": null,
   "id": "fab77de0-ed6c-423e-ba56-08c31655b31d",
   "metadata": {},
   "outputs": [],
   "source": []
  },
  {
   "cell_type": "code",
   "execution_count": null,
   "id": "6fa63d0e-4b85-4641-b575-e81384babee7",
   "metadata": {},
   "outputs": [],
   "source": []
  },
  {
   "cell_type": "code",
   "execution_count": null,
   "id": "5f8c2cc3-2d8b-4efd-ab37-d0ecaf79f877",
   "metadata": {},
   "outputs": [],
   "source": []
  },
  {
   "cell_type": "code",
   "execution_count": null,
   "id": "c0682ad4-1ae8-4b7b-bf1c-67ea6db01fba",
   "metadata": {},
   "outputs": [],
   "source": []
  }
 ],
 "metadata": {
  "kernelspec": {
   "display_name": "Python 3 (ipykernel)",
   "language": "python",
   "name": "python3"
  },
  "language_info": {
   "codemirror_mode": {
    "name": "ipython",
    "version": 3
   },
   "file_extension": ".py",
   "mimetype": "text/x-python",
   "name": "python",
   "nbconvert_exporter": "python",
   "pygments_lexer": "ipython3",
   "version": "3.9.7"
  }
 },
 "nbformat": 4,
 "nbformat_minor": 5
}
